{
 "cells": [
  {
   "cell_type": "code",
   "execution_count": 1,
   "id": "9440345d",
   "metadata": {
    "execution": {
     "iopub.execute_input": "2024-05-05T04:54:07.907071Z",
     "iopub.status.busy": "2024-05-05T04:54:07.906752Z",
     "iopub.status.idle": "2024-05-05T04:54:08.948648Z",
     "shell.execute_reply": "2024-05-05T04:54:08.947481Z"
    },
    "papermill": {
     "duration": 1.047207,
     "end_time": "2024-05-05T04:54:08.951025",
     "exception": false,
     "start_time": "2024-05-05T04:54:07.903818",
     "status": "completed"
    },
    "tags": []
   },
   "outputs": [
    {
     "name": "stdout",
     "output_type": "stream",
     "text": [
      "python: can't open file '/kaggle/working/obj-detection/yolov9/train_dual.py': [Errno 2] No such file or directory\r\n"
     ]
    }
   ],
   "source": [
    "!python /kaggle/working/obj-detection/yolov9/train_dual.py --resume --batch-size=16 --hyp=/kaggle/working/obj-detection/hyp.yaml --data=/kaggle/working/obj-detection/data.yaml --cfg=/kaggle/working/obj-detection/yolov9-c.yaml"
   ]
  }
 ],
 "metadata": {
  "kaggle": {
   "accelerator": "none",
   "dataSources": [],
   "dockerImageVersionId": 30699,
   "isGpuEnabled": false,
   "isInternetEnabled": true,
   "language": "python",
   "sourceType": "notebook"
  },
  "kernelspec": {
   "display_name": "Python 3",
   "language": "python",
   "name": "python3"
  },
  "language_info": {
   "codemirror_mode": {
    "name": "ipython",
    "version": 3
   },
   "file_extension": ".py",
   "mimetype": "text/x-python",
   "name": "python",
   "nbconvert_exporter": "python",
   "pygments_lexer": "ipython3",
   "version": "3.10.13"
  },
  "papermill": {
   "default_parameters": {},
   "duration": 3.996389,
   "end_time": "2024-05-05T04:54:09.170358",
   "environment_variables": {},
   "exception": null,
   "input_path": "__notebook__.ipynb",
   "output_path": "__notebook__.ipynb",
   "parameters": {},
   "start_time": "2024-05-05T04:54:05.173969",
   "version": "2.5.0"
  }
 },
 "nbformat": 4,
 "nbformat_minor": 5
}
