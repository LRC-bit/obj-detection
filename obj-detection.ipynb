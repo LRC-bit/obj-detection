{
 "cells": [
  {
   "cell_type": "code",
   "execution_count": 1,
   "id": "71601326",
   "metadata": {
    "_cell_guid": "80bb177f-9691-4f00-9b44-2e4d177c7d52",
    "_uuid": "7bdf1f99-e1cc-474d-969d-812898455562",
    "collapsed": false,
    "execution": {
     "iopub.execute_input": "2024-04-29T15:41:34.244648Z",
     "iopub.status.busy": "2024-04-29T15:41:34.244199Z",
     "iopub.status.idle": "2024-04-29T15:42:48.365819Z",
     "shell.execute_reply": "2024-04-29T15:42:48.361500Z"
    },
    "jupyter": {
     "outputs_hidden": false
    },
    "papermill": {
     "duration": 74.140333,
     "end_time": "2024-04-29T15:42:48.377270",
     "exception": false,
     "start_time": "2024-04-29T15:41:34.236937",
     "status": "completed"
    },
    "tags": []
   },
   "outputs": [
    {
     "name": "stdout",
     "output_type": "stream",
     "text": [
      "Collecting gdown\r\n",
      "  Downloading gdown-5.1.0-py3-none-any.whl.metadata (5.7 kB)\r\n",
      "Requirement already satisfied: beautifulsoup4 in /opt/conda/lib/python3.10/site-packages (from gdown) (4.12.2)\r\n",
      "Requirement already satisfied: filelock in /opt/conda/lib/python3.10/site-packages (from gdown) (3.13.1)\r\n",
      "Requirement already satisfied: requests[socks] in /opt/conda/lib/python3.10/site-packages (from gdown) (2.31.0)\r\n",
      "Requirement already satisfied: tqdm in /opt/conda/lib/python3.10/site-packages (from gdown) (4.66.1)\r\n",
      "Requirement already satisfied: soupsieve>1.2 in /opt/conda/lib/python3.10/site-packages (from beautifulsoup4->gdown) (2.5)\r\n",
      "Requirement already satisfied: charset-normalizer<4,>=2 in /opt/conda/lib/python3.10/site-packages (from requests[socks]->gdown) (3.3.2)\r\n",
      "Requirement already satisfied: idna<4,>=2.5 in /opt/conda/lib/python3.10/site-packages (from requests[socks]->gdown) (3.6)\r\n",
      "Requirement already satisfied: urllib3<3,>=1.21.1 in /opt/conda/lib/python3.10/site-packages (from requests[socks]->gdown) (1.26.18)\r\n",
      "Requirement already satisfied: certifi>=2017.4.17 in /opt/conda/lib/python3.10/site-packages (from requests[socks]->gdown) (2024.2.2)\r\n",
      "Requirement already satisfied: PySocks!=1.5.7,>=1.5.6 in /opt/conda/lib/python3.10/site-packages (from requests[socks]->gdown) (1.7.1)\r\n",
      "Downloading gdown-5.1.0-py3-none-any.whl (17 kB)\r\n",
      "Installing collected packages: gdown\r\n",
      "Successfully installed gdown-5.1.0\r\n",
      "Downloading...\r\n",
      "From (original): https://drive.google.com/uc?id=1ImRFKG1QyNahvUh9en-lwK6NcJTqPUsm\r\n",
      "From (redirected): https://drive.google.com/uc?id=1ImRFKG1QyNahvUh9en-lwK6NcJTqPUsm&confirm=t&uuid=9d4f005d-0b70-431e-bdb9-146446271295\r\n",
      "To: /kaggle/working/GAIIC2024-赛道1-目标检测任务.tar.gz\r\n",
      "100%|██████████████████████████████████████| 5.15G/5.15G [00:53<00:00, 97.2MB/s]\r\n"
     ]
    }
   ],
   "source": [
    "!pip install gdown\n",
    "!gdown https://drive.google.com/uc?id=1ImRFKG1QyNahvUh9en-lwK6NcJTqPUsm"
   ]
  },
  {
   "cell_type": "code",
   "execution_count": null,
   "id": "36909ade",
   "metadata": {
    "_cell_guid": "9ae2f210-418f-4419-9212-0e076c03d21c",
    "_uuid": "24d37bb7-c7a7-4640-ae26-aa6510739121",
    "collapsed": false,
    "jupyter": {
     "outputs_hidden": false
    },
    "papermill": {
     "duration": 0.280158,
     "end_time": "2024-04-29T15:42:48.907843",
     "exception": false,
     "start_time": "2024-04-29T15:42:48.627685",
     "status": "completed"
    },
    "tags": []
   },
   "outputs": [],
   "source": []
  },
  {
   "cell_type": "code",
   "execution_count": 2,
   "id": "0208840c",
   "metadata": {
    "_cell_guid": "98621982-39f0-4675-804c-ef2b058eef31",
    "_uuid": "e5d412ab-3ccb-4bb2-aeba-68a9f3c9369c",
    "collapsed": false,
    "execution": {
     "iopub.execute_input": "2024-04-29T15:42:49.559794Z",
     "iopub.status.busy": "2024-04-29T15:42:49.558458Z",
     "iopub.status.idle": "2024-04-29T15:42:54.426330Z",
     "shell.execute_reply": "2024-04-29T15:42:54.424413Z"
    },
    "jupyter": {
     "outputs_hidden": false
    },
    "papermill": {
     "duration": 5.207451,
     "end_time": "2024-04-29T15:42:54.430018",
     "exception": false,
     "start_time": "2024-04-29T15:42:49.222567",
     "status": "completed"
    },
    "tags": []
   },
   "outputs": [
    {
     "name": "stdout",
     "output_type": "stream",
     "text": [
      "--2024-04-29 15:42:50--  https://sites.google.com/site/wun913/Home/gdrive-linux-x64\r\n",
      "Resolving sites.google.com (sites.google.com)... 74.125.135.138, 74.125.135.139, 74.125.135.101, ...\r\n",
      "Connecting to sites.google.com (sites.google.com)|74.125.135.138|:443... connected.\r\n",
      "HTTP request sent, awaiting response... 302 Found\r\n",
      "Location: https://accounts.google.com/ServiceLogin?passive=1209600&osid=1&continue=https://sites.google.com/site/wun913/Home/gdrive-linux-x64&followup=https://sites.google.com/site/wun913/Home/gdrive-linux-x64 [following]\r\n",
      "--2024-04-29 15:42:51--  https://accounts.google.com/ServiceLogin?passive=1209600&osid=1&continue=https://sites.google.com/site/wun913/Home/gdrive-linux-x64&followup=https://sites.google.com/site/wun913/Home/gdrive-linux-x64\r\n",
      "Resolving accounts.google.com (accounts.google.com)... 173.194.203.84, 2607:f8b0:400e:c01::54\r\n",
      "Connecting to accounts.google.com (accounts.google.com)|173.194.203.84|:443... connected.\r\n",
      "HTTP request sent, awaiting response... 302 Found\r\n",
      "Location: https://accounts.google.com/InteractiveLogin?continue=https://sites.google.com/site/wun913/Home/gdrive-linux-x64&followup=https://sites.google.com/site/wun913/Home/gdrive-linux-x64&osid=1&passive=1209600&ifkv=AaSxoQx6xZ9WxSt_qzioecdTu5iI1_gkTar8GlaU-Y39AfJgDbLDZWPM4JIWcFrZAWe-MgRFvQVb [following]\r\n",
      "--2024-04-29 15:42:51--  https://accounts.google.com/InteractiveLogin?continue=https://sites.google.com/site/wun913/Home/gdrive-linux-x64&followup=https://sites.google.com/site/wun913/Home/gdrive-linux-x64&osid=1&passive=1209600&ifkv=AaSxoQx6xZ9WxSt_qzioecdTu5iI1_gkTar8GlaU-Y39AfJgDbLDZWPM4JIWcFrZAWe-MgRFvQVb\r\n",
      "Reusing existing connection to accounts.google.com:443.\r\n",
      "HTTP request sent, awaiting response... 302 Moved Temporarily\r\n",
      "Location: https://accounts.google.com/v3/signin/identifier?continue=https%3A%2F%2Fsites.google.com%2Fsite%2Fwun913%2FHome%2Fgdrive-linux-x64&followup=https%3A%2F%2Fsites.google.com%2Fsite%2Fwun913%2FHome%2Fgdrive-linux-x64&ifkv=AaSxoQxnRrPaQeDepFiicf_SYdj7cOvcTVib6DHFZEzbRAYbsRb89E-RDMUabQfImxf3bRqCknXh&osid=1&passive=1209600&flowName=WebLiteSignIn&flowEntry=ServiceLogin&dsh=S872767345%3A1714405371121034 [following]\r\n",
      "--2024-04-29 15:42:51--  https://accounts.google.com/v3/signin/identifier?continue=https%3A%2F%2Fsites.google.com%2Fsite%2Fwun913%2FHome%2Fgdrive-linux-x64&followup=https%3A%2F%2Fsites.google.com%2Fsite%2Fwun913%2FHome%2Fgdrive-linux-x64&ifkv=AaSxoQxnRrPaQeDepFiicf_SYdj7cOvcTVib6DHFZEzbRAYbsRb89E-RDMUabQfImxf3bRqCknXh&osid=1&passive=1209600&flowName=WebLiteSignIn&flowEntry=ServiceLogin&dsh=S872767345%3A1714405371121034\r\n",
      "Reusing existing connection to accounts.google.com:443.\r\n",
      "HTTP request sent, awaiting response... 200 OK\r\n",
      "Length: unspecified [text/html]\r\n",
      "Saving to: 'gdrive'\r\n",
      "\r\n",
      "gdrive                  [ <=>                ] 164.89K  --.-KB/s    in 0.06s   \r\n",
      "\r\n",
      "2024-04-29 15:42:51 (2.50 MB/s) - 'gdrive' saved [168847]\r\n",
      "\r\n"
     ]
    }
   ],
   "source": [
    "!wget -O gdrive https://sites.google.com/site/wun913/Home/gdrive-linux-x64\n",
    "!mv gdrive /usr/bin/gdrive\n",
    "!chmod +x /usr/bin/gdrive"
   ]
  },
  {
   "cell_type": "code",
   "execution_count": 3,
   "id": "e54047f1",
   "metadata": {
    "_cell_guid": "6ae1cfae-80d3-4334-aee2-22f0d234e9ee",
    "_uuid": "445f76bc-58fb-48d0-9890-a90cacb49ec4",
    "collapsed": false,
    "execution": {
     "iopub.execute_input": "2024-04-29T15:42:54.545840Z",
     "iopub.status.busy": "2024-04-29T15:42:54.543366Z",
     "iopub.status.idle": "2024-04-29T15:42:55.838138Z",
     "shell.execute_reply": "2024-04-29T15:42:55.836105Z"
    },
    "jupyter": {
     "outputs_hidden": false
    },
    "papermill": {
     "duration": 1.351587,
     "end_time": "2024-04-29T15:42:55.841452",
     "exception": false,
     "start_time": "2024-04-29T15:42:54.489865",
     "status": "completed"
    },
    "tags": []
   },
   "outputs": [
    {
     "name": "stdout",
     "output_type": "stream",
     "text": [
      "/usr/bin/gdrive: line 1: syntax error near unexpected token `<'\r\n",
      "/usr/bin/gdrive: line 1: `<!doctype html><html lang=\"en-US\" dir=\"ltr\"><head><base href=\"https://accounts.google.com/v3/signin/\"><link ref=\"preconnect\" href=\"//www.gstatic.com\"><meta name=\"referrer\" content=\"origin\"><style data-href=\"https://www.gstatic.com/_/mss/boq-identity/_/ss/k=boq-identity.AccountsSignInUi.w-Zge-qJyOg.L.W.O/am=PsAiOnAsAAWAIGgAAAGAAgAAAAAAAAAAoAEmIQ/d=1/ed=1/rs=AOaEmlGYBV5Xexto-VLNb3ymlPEgK6XjiA/m=identifierview,_b,_tp\" nonce=\"nH6_Xo64GPNDalEm0OEA3w\">c-wiz{contain:style}c-wiz>c-data{display:none}c-wiz.rETSD{contain:none}c-wiz.Ubi8Z{contain:layout style}@-webkit-keyframes quantumWizBoxInkSpread{0%{-webkit-transform:translate(-50%,-50%) scale(0.2);-webkit-transform:translate(-50%,-50%) scale(0.2);transform:translate(-50%,-50%) scale(0.2)}to{-webkit-transform:translate(-50%,-50%) scale(2.2);-webkit-transform:translate(-50%,-50%) scale(2.2);transform:translate(-50%,-50%) scale(2.2)}}@keyframes quantumWizBoxInkSpread{0%{-webkit-transform:translate(-50%,-50%) scale(0.2);-webkit-transform:translate(-50%,-50%) scale(0.2);transform:translate(-50%,-50%) scale(0.2)}to{-webkit-transform:translate(-50%,-50%) scale(2.2);-webkit-transform:translate(-50%,-50%) scale(2.2);transform:translate(-50%,-50%) scale(2.2)}}@-webkit-keyframes quantumWizIconFocusPulse{0%{-webkit-transform:translate(-50%,-50%) scale(1.5);-webkit-transform:translate(-50%,-50%) scale(1.5);transform:translate(-50%,-50%) scale(1.5);opacity:0}to{-webkit-transform:translate(-50%,-50%) scale(2);-webkit-transform:translate(-50%,-50%) scale(2);transform:translate(-50%,-50%) scale(2);opacity:1}}@keyframes quantumWizIconFocusPulse{0%{-webkit-transform:translate(-50%,-50%) scale(1.5);-webkit-transform:translate(-50%,-50%) scale(1.5);transform:translate(-50%,-50%) scale(1.5);opacity:0}to{-webkit-transform:translate(-50%,-50%) scale(2);-webkit-transform:translate(-50%,-50%) scale(2);transform:translate(-50%,-50%) scale(2);opacity:1}}@-webkit-keyframes quantumWizRadialInkSpread{0%{-webkit-transform:scale(1.5);-webkit-transform:scale(1.5);transform:scale(1.5);opacity:0}to{-webkit-transform:scale(2.5);-webkit-transform:scale(2.5);transform:scale(2.5);opacity:1}}@keyframes quantumWizRadialInkSpread{0%{-webkit-transform:scale(1.5);-webkit-transform:scale(1.5);transform:scale(1.5);opacity:0}to{-webkit-transform:scale(2.5);-webkit-transform:scale(2.5);transform:scale(2.5);opacity:1}}@-webkit-keyframes quantumWizRadialInkFocusPulse{0%{-webkit-transform:scale(2);-webkit-transform:scale(2);transform:scale(2);opacity:0}to{-webkit-transform:scale(2.5);-webkit-transform:scale(2.5);transform:scale(2.5);opacity:1}}@keyframes quantumWizRadialInkFocusPulse{0%{-webkit-transform:scale(2);-webkit-transform:scale(2);transform:scale(2);opacity:0}to{-webkit-transform:scale(2.5);-webkit-transform:scale(2.5);transform:scale(2.5);opacity:1}}.JnOM6e{background-color:transparent;border:none;border-radius:4px;box-sizing:border-box;display:inline-block;font-size:14px;height:36px;letter-spacing:.15px;line-height:34px;padding:0 24px;position:relative;text-align:center}.JnOM6e:focus-visible{outline:none;position:relative}.JnOM6e:focus-visible::after{border:2px solid rgb(24,90,188);border-radius:6px;bottom:-4px;box-shadow:0 0 0 2px rgb(232,240,254);content:\"\";left:-4px;position:absolute;right:-4px;top:-4px}.rDisVe:focus:not(:focus-visible),.GjFdVe:focus:not(:focus-visible){box-shadow:0 1px 1px 0 rgba(66,133,244,.3),0 1px 3px 1px rgba(66,133,244,.15)}.rDisVe:hover:not(:focus-visible),.GjFdVe:hover:not(:focus-visible){box-shadow:0 1px 1px 0 rgba(66,133,244,.45),0 1px 3px 1px rgba(66,133,244,.3)}.JnOM6e:disabled{pointer-events:none}.JnOM6e:hover{cursor:pointer}.JnOM6e.kTeh9{line-height:36px;text-decoration:none}.JnOM6e.eLNT1d{display:none}.rDisVe{background-color:rgb(26,115,232);color:#fff}.rDisVe:disabled{background-color:rgb(232,234,237);color:rgb(154,160,166)}.rDisVe:focus,.rDisVe:hover{background-color:rgb(24,90,188)}.GjFdVe{border:1px solid rgb(218,220,224);color:rgb(26,115,232)}.GjFdVe:disabled{color:rgb(189,193,198)}.GjFdVe:active{background-color:rgb(174,203,250);color:rgb(23,78,166)}.GjFdVe:focus{background-color:rgb(232,240,254);border-color:rgb(24,90,188);color:rgb(23,78,166)}.GjFdVe:hover{background-color:rgb(232,240,254);color:rgb(23,78,166)}.KXbQ4b{color:rgb(26,115,232);min-width:0;padding-left:8px;padding-right:8px}.KXbQ4b:disabled{color:rgb(189,193,198)}.KXbQ4b:active,.KXbQ4b:hover{color:rgb(24,90,188)}.KXbQ4b:active{background-color:rgba(26,115,232,.12)}.KXbQ4b:focus,.KXbQ4b:hover{background-color:rgba(26,115,232,.04)}.hZUije{border:0}.hZUije.WS4XDd{max-height:1.3333em;padding:0 2px;vertical-align:middle;width:auto}.kHluYc{border:0;object-fit:contain}.kHluYc.WS4XDd{max-height:1.3333em;padding:0 2px;vertical-align:middle;width:auto}.aN1Vld{margin:16px 0;outline:none}.aN1Vld+.aN1Vld{margin-top:24px}.aN1Vld:first-child{margin-top:0}.aN1Vld:last-child{margin-bottom:0}.fegW5d{border-radius:8px;padding:16px}.fegW5d>:first-child{margin-top:0}.fegW5d>:last-child{margin-bottom:0}.fegW5d .cySqRb,.fegW5d .yOnVIb{color:rgb(32,33,36)}.fegW5d.YFdWic .yOnVIb{color:rgb(95,99,104);margin-top:4px;padding:0}.fegW5d.YFdWic .wSQNd,.fegW5d.YFdWic .yOnVIb{margin-left:64px;width:calc(100% - 64px)}.fegW5d.YFdWic:not(.S7S4N) .wSQNd{margin-left:0;width:0}.fegW5d:not(.S7S4N)>.yOnVIb{margin-top:0}.fegW5d.sj692e{background:rgb(232,240,254)}.fegW5d.Xq8bDe{background:rgb(252,232,230)}.fegW5d.rNe0id{background:rgb(254,247,224)}.fegW5d.YFdWic{border:1px solid rgb(218,220,224);min-height:80px;position:relative}.fegW5d:not(.S7S4N){display:-webkit-box;display:-webkit-flex;display:flex}.aN1Vld.eLNT1d{display:none}.aN1Vld.RDPZE{opacity:.5;pointer-events:none}.aN1Vld.RDPZE .aN1Vld.RDPZE{opacity:1}.wlrzMe{border:1px solid rgb(218,220,224);border-radius:8px;padding:16px}.wlrzMe .EEiyWe{display:-webkit-box;display:-webkit-flex;display:flex;-webkit-box-pack:end;-webkit-justify-content:flex-end;justify-content:flex-end;margin-top:16px}.wlrzMe .EEiyWe .GjFdVe{margin-bottom:0;margin-top:0}.wSQNd:empty{display:none}.wSQNd>:first-child{margin-top:0;padding-top:0}.wSQNd>:last-child{margin-bottom:0;padding-bottom:0}.cySqRb{-webkit-box-align:center;-webkit-align-items:center;align-items:center;color:rgb(32,33,36);display:-webkit-box;display:-webkit-flex;display:flex;font-size:16px;font-weight:500;letter-spacing:.1px;line-height:1.4286;margin-bottom:0;margin-top:0;padding:0}.zlrrr{color:rgb(95,99,104);-webkit-flex-shrink:0;flex-shrink:0;height:20px;margin-right:16px;width:20px}.zlrrr .GxLRef{height:100%;width:100%}.fegW5d .zlrrr{margin-top:0}.fegW5d.sj692e .zlrrr{color:rgb(25,103,210)}.fegW5d.Xq8bDe .zlrrr{color:rgb(197,34,31)}.fegW5d.rNe0id .zlrrr{color:rgb(234,134,0)}.fegW5d.YFdWic .zlrrr{height:48px;left:16px;position:absolute;top:16px;width:48px}.yOnVIb{margin:auto -24px;padding-left:24px;padding-right:24px;margin-bottom:16px;margin-top:10px}.wlrzMe .yOnVIb{margin-bottom:0;margin-top:16px}.yOnVIb>:first-child:not(section){margin-top:0;padding-top:0}.yOnVIb>:last-child:not(section){margin-bottom:0;padding-bottom:0}.wSQNd:empty+.yOnVIb{margin-top:0}.yOnVIb:only-child{margin-bottom:0;margin-top:0}*,*:before,*:after{box-sizing:inherit}html{box-sizing:border-box;-webkit-tap-highlight-color:transparent}body,input,textarea,select,button{color:rgb(32,33,36);font-family:arial,sans-serif}body{background:#fff;direction:ltr;display:-webkit-box;display:-webkit-flex;display:flex;-webkit-box-orient:vertical;-webkit-box-direction:normal;-webkit-flex-direction:column;flex-direction:column;font-size:14px;line-height:1.4286;margin:0;min-height:100vh;padding:0;position:relative}@media (min-width:601px){body{-webkit-box-pack:center;-webkit-justify-content:center;justify-content:center}}[data-style=heading]{color:rgb(32,33,36);font-size:16px;font-weight:500;letter-spacing:.1px;line-height:1.4286}.BDEI9 h2:not(.TrZEUc){color:rgb(32,33,36);font-size:16px;font-weight:500;letter-spacing:.1px;line-height:1.4286}.BDEI9 .fegW5d a:not(.TrZEUc),.BDEI9 .fegW5d button:not(.TrZEUc){color:rgb(25,103,210)}.BDEI9 a{text-decoration:none}.BDEI9 a:not(.TrZEUc),.BDEI9 button:not(.TrZEUc){border-radius:4px;color:rgb(26,115,232);display:inline-block;font-weight:500;letter-spacing:.25px;outline:0;position:relative;z-index:1}.BDEI9 button:not(.TrZEUc){background-color:transparent;cursor:pointer;padding:0;text-align:left}.BDEI9 button:not(.TrZEUc){border:0}.BDEI9 button::-moz-focus-inner{border:0}.BDEI9 a:not(.TrZEUc):focus::after,.BDEI9 a:not(.TrZEUc):active::after,.BDEI9 button:not(.TrZEUc):focus::after,.BDEI9 button:not(.TrZEUc):active::after{background-color:rgba(26,115,232,.15);border-radius:2px;content:\"\";position:absolute;inset:-2px -3px;z-index:-1}.BDEI9 img:not(.TrZEUc){border:0;max-height:1.3em;vertical-align:middle}@media (min-width:601px){.BDEI9{display:-webkit-box;display:-webkit-flex;display:flex;-webkit-box-orient:vertical;-webkit-box-direction:normal;-webkit-flex-direction:column;flex-direction:column;min-height:100vh;position:relative}.BDEI9:before,.BDEI9:after{-webkit-box-flex:1;-webkit-flex-grow:1;flex-grow:1;content:\"\";height:24px}.BDEI9:before{min-height:30px}.BDEI9:after{min-height:24px}.BDEI9.LZgQXe:after{min-height:63.9996px}}.gEc4r{display:-webkit-box;display:-webkit-flex;display:flex;height:24px;-webkit-box-pack:center;-webkit-justify-content:center;justify-content:center}.gEc4r.jlqJKb{height:auto;min-height:24px;padding-top:24px}.BivnM{-webkit-box-align:center;-webkit-align-items:center;align-items:center;border-bottom:1px solid #ccc;display:-webkit-box;display:-webkit-flex;display:flex;height:36px;left:0;padding:0 16px;position:absolute;right:0;top:0}.BivnM .ji6sFc{height:14px;margin-right:12px}.O3jdWc{color:rgb(95,99,104);font-size:14px;height:14px;margin-top:-2px}.Zwk8S{display:block;height:37px;width:37px}.wFNE4e{color:rgb(26,115,232)}.HUYFt{display:-webkit-box;display:-webkit-flex;display:flex;-webkit-flex-wrap:wrap;flex-wrap:wrap;font-size:12px;-webkit-box-pack:justify;-webkit-justify-content:space-between;justify-content:space-between;padding:0 24px 14px}@media (min-width:601px){.HUYFt{padding-left:0;padding-right:0;position:absolute;width:100%}}.hXs2T .pUP0Nd{color:rgb(60,64,67)}.hXs2T{margin-left:-16px;margin-right:16px}.N158t{-webkit-appearance:none;appearance:none;background-color:transparent;background-image:url(\"data:image/svg+xml;base64,PHN2ZyB4bWxucz0iaHR0cDovL3d3dy53My5vcmcvMjAwMC9zdmciIGhlaWdodD0iMjRweCIgdmlld0JveD0iMCAwIDI0IDI0IiB3aWR0aD0iMjRweCIgZmlsbD0iIzQ1NUE2NCI+PHBhdGggZD0iTTAgMGgyNHYyNEgwVjB6IiBmaWxsPSJub25lIi8+PHBhdGggZD0iTTcgMTBsNSA1IDUtNUg3eiIvPjwvc3ZnPg==\");background-position:right;background-repeat:no-repeat;border:none;border-radius:4px;color:rgb(95,99,104);cursor:pointer;font-size:12px;line-height:15.9996px;outline:none;padding:16.0002px 24px 16.0002px 16px}.N158t:focus{background-color:rgb(232,234,237)}.M2nKge{list-style:none;margin:0 -16px;padding:0}.vomtoe{display:inline-block;margin:0}.pUP0Nd{background-color:transparent;border-radius:4px;color:rgb(95,99,104);display:inline-block;line-height:15.9996px;outline:none;padding:16px}.pUP0Nd:focus{background-color:rgb(232,234,237)}.vOZun,.gomQac{padding-bottom:3px;padding-top:9px;margin-bottom:0;margin-top:0}.gomQac{margin:0}.vOZun:empty{display:none}.Ha17qf{background:#fff;display:-webkit-box;display:-webkit-flex;display:flex;-webkit-box-orient:vertical;-webkit-box-direction:normal;-webkit-flex-direction:column;flex-direction:column;max-width:100%;min-height:100vh;position:relative}@media (min-width:601px){.Ha17qf{background:#fff;border:1px solid rgb(218,220,224);border-radius:8px;display:block;-webkit-flex-shrink:0;flex-shrink:0;margin:0 auto;min-height:0;width:450px}.Ha17qf.qmmlRd{width:450px}.Ha17qf.qmmlRd .Or16q{height:auto;min-height:500px}}.Or16q{-webkit-box-flex:1;-webkit-flex-grow:1;flex-grow:1;overflow:hidden;padding:24px 24px 36px}@media (min-width:601px){.Or16q{height:auto;min-height:500px;overflow-y:auto}}@media (min-width:450px){.Or16q{padding:48px 40px 36px}}.iEhbme{padding:24px 0 0}.iEhbme.RDPZE{opacity:.5;pointer-events:none}.BrpTO{margin:auto;max-width:380px;overflow:hidden;position:relative}.BrpTO .Q8ElWe{position:relative;text-align:center}.viAgtf{border-radius:50%;color:rgb(95,99,104);overflow:hidden}.eCirAf{line-height:1.4286}.cABCAe{width:100%}.cABCAe .viAgtf{-webkit-box-flex:0;-webkit-flex:none;flex:none;height:28px;margin-right:12px;width:28px}.cABCAe .Q8ElWe,.TPmpLe .Q8ElWe{display:-webkit-box;display:-webkit-flex;display:flex;-webkit-box-align:center;-webkit-align-items:center;align-items:center}.cABCAe .Q8ElWe{-webkit-box-pack:center;-webkit-justify-content:center;justify-content:center}.BrpTO .viAgtf{height:64px;margin:0 auto 8px;width:64px}.rs3gSb{border-radius:50%;display:block}.cABCAe .rs3gSb,.cABCAe .hZUije,.cABCAe .kHluYc{max-height:100%;max-width:100%}.BrpTO .rs3gSb,.BrpTO .hZUije,.BrpTO .kHluYc{height:64px;width:64px}.TPmpLe{height:20px}.TPmpLe .viAgtf{display:-webkit-box;display:-webkit-flex;display:flex;height:20px;margin-right:8px;min-width:20px}.TPmpLe .rs3gSb,.TPmpLe .hZUije,.TPmpLe .kHluYc{color:rgb(60,64,67);height:20px;width:20px}.TPmpLe .kk39Eb{overflow:hidden}.TPmpLe .yavlK{overflow:hidden;text-overflow:ellipsis;white-space:nowrap}.cABCAe .kk39Eb{-webkit-box-flex:1;-webkit-flex-grow:1;flex-grow:1}.cABCAe .eCirAf{color:rgb(60,64,67);font-size:14px;font-weight:500}.BrpTO .eCirAf{color:rgb(32,33,36);font-size:16px}.yavlK,.FzDwd{direction:ltr;font-size:12px;text-align:left;line-height:1.3333;word-break:break-all}.FzDwd{color:rgb(95,99,104)}.TPmpLe .yavlK{color:rgb(60,64,67)}.cABCAe .yavlK{color:rgb(95,99,104)}.BrpTO .yavlK{color:rgb(95,99,104);text-align:center}.BtUzhd{color:rgb(95,99,104);font-size:12px}.cABCAe .BtUzhd{-webkit-align-self:flex-start;align-self:flex-start;-webkit-box-flex:0;-webkit-flex:none;flex:none;line-height:1.3333}.HDuqac{background:transparent;border:none;color:rgb(60,64,67);cursor:pointer;display:-webkit-inline-box;display:-webkit-inline-flex;display:inline-flex;font-size:14px;letter-spacing:.25px;max-width:100%}.BOs5fd{-webkit-box-align:center;-webkit-align-items:center;align-items:center;background:#fff;border:1px solid rgb(218,220,224);display:-webkit-inline-box;display:-webkit-inline-flex;display:inline-flex;max-width:100%;position:relative}.HDuqac:focus-visible{outline:none}.HDuqac:focus-visible .BOs5fd{outline:none;position:relative;background:rgba(60,64,67,.12)}.HDuqac:focus-visible .BOs5fd::after{border:2px solid rgb(24,90,188);border-radius:20px;bottom:-5px;box-shadow:0 0 0 2px rgb(232,240,254);content:\"\";left:-5px;position:absolute;right:-5px;top:-5px}.HDuqac:focus:not(:focus-visible) .BOs5fd{box-shadow:0 1px 1px 0 rgba(66,133,244,.3),0 1px 3px 1px rgba(66,133,244,.15);border-color:rgb(218,220,224);box-shadow:none}.HDuqac:hover:not(:focus-visible) .BOs5fd{background:rgba(60,64,67,.04)}.HDuqac:focus .BOs5fd,.HDuqac:hover .BOs5fd{border-color:rgb(218,220,224)}.HDuqac:active:focus .BOs5fd{background:rgba(60,64,67,.12);border-color:rgb(60,64,67);color:rgb(60,64,67)}.EI77qf{line-height:30px;margin:-8px 0;padding:8px 0}.EI77qf.DbQnIe{color:rgb(26,115,232);font-size:12px;line-height:22px}.EI77qf .BOs5fd{border-radius:16px;padding:0 15px 0 15px}.EI77qf.DbQnIe .BOs5fd{border-radius:12px;padding:0 10px 0 10px}.EI77qf.iiFyne .BOs5fd{padding-right:7px}.EI77qf.cd29Sd .BOs5fd{padding-left:5px}.EI77qf.DbQnIe.cd29Sd .BOs5fd{padding-left:2px}.EI77qf.DbQnIe.iiFyne .BOs5fd{padding-right:7px}.hMeYtd{border-radius:10px;height:20px;margin-right:8px}.hMeYtd .rs3gSb,.hMeYtd .hZUije,.hMeYtd .kHluYc{border-radius:50%;color:rgb(60,64,67);display:block;height:20px;width:20px}.wJxLsd{direction:ltr;overflow:hidden;text-align:left;text-overflow:ellipsis;white-space:nowrap}.znpTjf{color:rgb(60,64,67);-webkit-flex-shrink:0;flex-shrink:0;height:18px;margin-left:4px;width:18px}.HDuqac.DbQnIe .znpTjf{height:16px;width:16px}.JC0zZc{display:block;height:100%;width:100%}.aMfydd{text-align:center}.aMfydd .Tn0LBd{padding-bottom:0;padding-top:16px;color:rgb(32,33,36);font-size:24px;font-weight:400;line-height:1.3333;margin-bottom:0;margin-top:0}.a2CQh{padding-bottom:3px;padding-top:1px;margin-bottom:0;margin-top:0}.a2CQh{font-size:16px;font-weight:400;letter-spacing:.1px;line-height:1.5;padding-bottom:0;padding-top:8px}.a2CQh:empty{display:none}.n868rf{display:-webkit-inline-box;display:-webkit-inline-flex;display:inline-flex;letter-spacing:.25px;min-height:24px;padding-bottom:0;padding-top:8px}.C7uRJc{margin-top:8px}.NveWz{-webkit-box-flex:1;-webkit-flex-grow:1;flex-grow:1}.i2knIc{display:-webkit-box;display:-webkit-flex;display:flex;-webkit-box-orient:vertical;-webkit-box-direction:reverse;-webkit-flex-direction:column-reverse;flex-direction:column-reverse;-webkit-box-flex:0;-webkit-flex-grow:0;flex-grow:0;-webkit-flex-wrap:wrap;flex-wrap:wrap;margin-left:-8px;margin-top:32px;margin-bottom:-16px;min-height:48px;padding-bottom:20px}.i2knIc.fXx9Lc,.i2knIc.fXx9Lc .RhTxBf,.i2knIc.fXx9Lc .tmMcIf{margin:0;min-height:0;padding:0}.sXlxWd{margin-bottom:32px;width:100%}.wg0fFb{display:-webkit-box;display:-webkit-flex;display:flex;-webkit-box-orient:horizontal;-webkit-box-direction:reverse;-webkit-flex-direction:row-reverse;flex-direction:row-reverse;-webkit-flex-wrap:wrap;flex-wrap:wrap;width:100%}.RhTxBf,.tmMcIf{-webkit-box-flex:1;-webkit-flex-grow:1;flex-grow:1;margin-bottom:16px}.i2knIc.NNItQ:not(.F8PBrb) .RhTxBf,.i2knIc.NNItQ:not(.F8PBrb) .tmMcIf{text-align:center}.RhTxBf{text-align:right}.i2knIc.F8PBrb{margin-left:0}.i2knIc.F8PBrb .wg0fFb{margin:0 -2px;width:calc(100% + 4px)}.i2knIc.F8PBrb .RhTxBf{display:-webkit-box;display:-webkit-flex;display:flex;-webkit-flex-wrap:wrap;flex-wrap:wrap;width:100%}.i2knIc.F8PBrb .tmMcIf{margin:0 2px}.xOs3Jc{-webkit-box-flex:1;-webkit-flex-grow:1;flex-grow:1;margin:0 2px;min-width:calc(50% - 4px)}.Cokknd{margin-bottom:6px;margin-top:6px;white-space:nowrap;width:100%}.D4rY0b{color:rgb(95,99,104);font-size:14px;line-height:1.4286;margin-top:32px}.sQecwc{display:hidden}.TRuRhd{margin-top:24px;position:relative}.Fu5aXd:first-child .TRuRhd{margin-top:8px}.xyezD{background-color:transparent;border:none;box-sizing:border-box;color:rgb(32,33,36);font-size:16px;height:56px;outline:none;padding:0 14px;width:100%}.TRuRhd.YKooDc .xyezD{direction:ltr;text-align:left}.Yr2OOb{line-height:1.4286;margin:14px;padding:0;resize:vertical}.LBj8vb{background-color:transparent;border:none;font-size:16px;height:56px;padding:0 14px;outline:none;width:100%}.dXXNOd{display:-webkit-box;display:-webkit-flex;display:flex;overflow:hidden;text-overflow:ellipsis;white-space:nowrap;width:100%}.xMpNCd:not(:empty){line-height:56px;padding-left:14px}.pkBWge:not(:empty){line-height:56px;padding-right:14px}.TRuRhd[data-has-domain-suffix] .pkBWge{display:-webkit-box;display:-webkit-flex;display:flex;white-space:nowrap}.TRuRhd[data-has-domain-suffix][data-has-at-sign] .pkBWge{display:none}.fjpXlc{display:-webkit-box;display:-webkit-flex;display:flex;height:100%}.nWPx2e{-webkit-box-align:stretch;-webkit-align-items:stretch;align-items:stretch;display:-webkit-box;display:-webkit-flex;display:flex;-webkit-box-orient:horizontal;-webkit-box-direction:normal;-webkit-flex-direction:row;flex-direction:row;height:100%;-webkit-box-pack:start;-webkit-justify-content:flex-start;justify-content:flex-start;left:0;max-width:100%;pointer-events:none;position:absolute;top:0;width:100%}.YhhY8,.CCQ94b,.tNASEf{border:1px solid rgb(218,220,224)}.YhhY8{border-bottom-left-radius:4px;border-right:none;border-top-left-radius:4px;width:8px}.CCQ94b{border-left:none;border-right:none;border-top:none;color:rgb(95,99,104);font-size:12px;margin:-6px 0 0;overflow:hidden;padding:0 6px;text-overflow:ellipsis;white-space:nowrap}.tNASEf{border-bottom-right-radius:4px;border-left:none;border-top-right-radius:4px;-webkit-box-flex:1;-webkit-flex-grow:1;flex-grow:1}.Fu5aXd:not(.Jj6Lae) .xyezD:focus+.nWPx2e .CCQ94b,.Fu5aXd:not(.Jj6Lae) .LBj8vb:focus+.nWPx2e .CCQ94b{color:rgb(26,115,232)}.xyezD:focus+.nWPx2e .YhhY8,.xyezD:focus+.nWPx2e .CCQ94b,.xyezD:focus+.nWPx2e .tNASEf,.LBj8vb:focus+.nWPx2e .YhhY8,.LBj8vb:focus+.nWPx2e .CCQ94b,.LBj8vb:focus+.nWPx2e .tNASEf{border-color:rgb(26,115,232);border-width:2px}.TMZ8p{-webkit-box-align:center;-webkit-align-items:center;align-items:center;box-sizing:content-box;cursor:pointer;display:-webkit-inline-box;display:-webkit-inline-flex;display:inline-flex;-webkit-box-flex:0;-webkit-flex:0 0 48px;flex:0 0 48px;height:48px;-webkit-box-pack:center;-webkit-justify-content:center;justify-content:center;line-height:0;position:relative;vertical-align:bottom;white-space:nowrap;width:48px}.TMZ8p .zSAiZc{height:48px;left:0;margin:0;opacity:0;outline:0;padding:0;position:absolute;top:0;width:48px}.RiAcXe{-webkit-box-align:center;-webkit-align-items:center;align-items:center;border:2px solid currentColor;border-radius:2px;box-sizing:border-box;display:-webkit-inline-box;display:-webkit-inline-flex;display:inline-flex;height:18px;-webkit-box-pack:center;-webkit-justify-content:center;justify-content:center;left:15px;pointer-events:none;position:absolute;top:15px;width:18px}.TIX6ke{bottom:0;left:0;opacity:0;position:absolute;right:0;top:0;width:100%}.TMZ8p .zSAiZc~.RiAcXe .TIX6ke{color:white;opacity:1}.M08VSe{stroke:currentColor;stroke-dashoffset:29.7833385;stroke-width:3.12px}.TMZ8p .zSAiZc:enabled:not(:checked)~.RiAcXe{background-color:transparent;border-color:rgb(95,99,104)}.TMZ8p .zSAiZc:enabled:checked~.RiAcXe{background-color:rgb(26,115,232);border-color:rgb(26,115,232)}.TMZ8p .zSAiZc[disabled]:not(:checked)~.RiAcXe{background-color:transparent;border-color:rgba(60,64,67,.38)}.TMZ8p .zSAiZc[disabled]:checked~.RiAcXe{background-color:rgba(60,64,67,.38);border-color:transparent}.TMZ8p:hover .zSAiZc:enabled:not(:checked)~.RiAcXe{background-color:transparent;border-color:rgb(32,33,36)}.TMZ8p:hover .zSAiZc:enabled:checked~.RiAcXe{background-color:rgb(23,78,166);border-color:rgb(23,78,166)}.TMZ8p .zSAiZc:focus-visible~.RiAcXe{outline:none;position:relative}.TMZ8p .zSAiZc:focus-visible~.RiAcXe::after{border:2px solid rgb(24,90,188);border-radius:4px;bottom:-5px;box-shadow:0 0 0 2px rgb(232,240,254);content:\"\";left:-5px;position:absolute;right:-5px;top:-5px}.F3wxlc{-webkit-box-align:start;-webkit-align-items:flex-start;align-items:flex-start;color:rgb(95,99,104);display:-webkit-box;display:-webkit-flex;display:flex;font-size:12px;line-height:normal;margin-top:4px}.EllNBf{margin-right:8px;margin-top:-2px}.SnjiRb{height:16px;width:16px}.F3wxlc:empty,.NHVGlc:empty{display:none}.Fu5aXd.Jj6Lae .F3wxlc{color:rgb(217,48,37)}.Fu5aXd .azsAwf{margin-left:16px}.Fu5aXd.Jj6Lae .nWPx2e .YhhY8,.Fu5aXd.Jj6Lae .nWPx2e .CCQ94b,.Fu5aXd.Jj6Lae .nWPx2e .tNASEf{border-color:rgb(217,48,37)}.Fu5aXd.Jj6Lae .nWPx2e .CCQ94b{color:rgb(217,48,37)}.ZWssT{margin-top:26px}.vopC4e{background:transparent;border:none;box-sizing:border-box;color:rgb(32,33,36);cursor:pointer;margin-bottom:-15px;margin-top:-15px;outline:inherit;padding-bottom:15px;padding-top:15px;position:relative;z-index:1}.vopC4e:focus::after{background-color:rgba(26,115,232,.15);border-radius:2px;bottom:0;content:\"\";left:0;position:absolute;right:0;top:0;z-index:-1}.JVMrYb{display:block}.hJIRO{display:none}sentinel{}</style><style nonce=\"nH6_Xo64GPNDalEm0OEA3w\">@font-face{font-family:'Product Sans';font-style:normal;font-weight:400;src:url(//fonts.gstatic.com/s/productsans/v9/pxiDypQkot1TnFhsFMOfGShVF9eL.ttf)format('truetype');}</style><meta name=\"chrome\" content=\"nointentdetection\"><meta name=\"viewport\" content=\"width=device-width, initial-scale=1\"><meta name=\"description\" content=\"\"><noscript><meta http-equiv=\"refresh\" content=\"0; url=/v3/signin/rejected?continue=https://sites.google.com/site/wun913/Home/gdrive-linux-x64&amp;dsh=S872767345:1714405371121034&amp;flowEntry=ServiceLogin&amp;flowName=WebLiteSignIn&amp;followup=https://sites.google.com/site/wun913/Home/gdrive-linux-x64&amp;ifkv=AaSxoQxnRrPaQeDepFiicf_SYdj7cOvcTVib6DHFZEzbRAYbsRb89E-RDMUabQfImxf3bRqCknXh&amp;osid=1&amp;rhlk=js&amp;rrk=47\"><style nonce=\"nH6_Xo64GPNDalEm0OEA3w\">body{opacity:0;}</style></noscript><title>Sign in - Google Accounts</title></head><body><div class=\"BDEI9 LZgQXe\"><div class=\"Ha17qf\" data-auto-init=\"Card\"><div class=\"Or16q\"><div data-view-id=\"hm18Ec\" data-locale=\"en_US\" data-allow-sign-up-types=\"true\"><c-wiz jsrenderer=\"OTcFib\" jsshadow jsdata=\"deferred-i2\" data-p=\"%.@.]\" data-node-index=\"2;0\" jsmodel=\"hc6Ubd\" c-wiz><div class=\"gEc4r\"><img src=\"//ssl.gstatic.com/images/branding/googlelogo/2x/googlelogo_color_74x24dp.png\" class=\"TrZEUc\" alt=\"Google\" width=\"74\" height=\"24\"></div><c-data id=\"i2\" jsdata=\" eCjdDd;_;4\"></c-data></c-wiz><div class=\"EQIoSc\" jsname=\"bN97Pc\"><div jsname=\"paFcre\"><div class=\"aMfydd\" jsname=\"tJHJj\"><h1 class=\"Tn0LBd\" jsname=\"r4nke\">Sign in</h1><p class=\"a2CQh\" jsname=\"VdSJob\">Use your Google Account</p></div></div><form action=\"/v3/signin/identifier?continue=https://sites.google.com/site/wun913/Home/gdrive-linux-x64&amp;dsh=S872767345:1714405371121034&amp;flowEntry=ServiceLogin&amp;flowName=WebLiteSignIn&amp;followup=https://sites.google.com/site/wun913/Home/gdrive-linux-x64&amp;ifkv=AaSxoQxnRrPaQeDepFiicf_SYdj7cOvcTVib6DHFZEzbRAYbsRb89E-RDMUabQfImxf3bRqCknXh&amp;osid=1\" method=\"POST\" novalidate><div class=\"iEhbme\" jsname=\"rEuO1b\"><section class=\"aN1Vld \"><div class=\"yOnVIb\" jsname=\"MZArnb\"><div class=\"Fu5aXd\" jsname=\"dWPKW\"><div class=\"Flfooc\"><div class=\"TRuRhd  YKooDc\"><div class=\"fjpXlc\"><label class=\"dXXNOd\"><input class=\"xyezD\" jsname=\"Ufn6O\" type=\"email\" name=\"identifier\" id=\"identifierId\" autofocus autocapitalize=\"none\" autocomplete=\"username\" dir=\"ltr\"/><div class=\"nWPx2e\"><div class=\"YhhY8\"></div><div class=\"CCQ94b\">Email or phone</div><div class=\"tNASEf\"></div></div></label></div></div></div><div class=\"F3wxlc\" jsname=\"h9d3hd\"></div><div class=\"NHVGlc\" jsname=\"JIbuQc\"></div></div><p class=\"vOZun\" jsname=\"OZNMeb\" aria-live=\"assertive\"></p><p class=\"vOZun\"><a href=\"/signin/usernamerecovery?continue=https://sites.google.com/site/wun913/Home/gdrive-linux-x64&amp;dsh=S872767345:1714405371121034&amp;flowEntry=ServiceLogin&amp;flowName=WebLiteSignIn&amp;followup=https://sites.google.com/site/wun913/Home/gdrive-linux-x64&amp;ifkv=AaSxoQxnRrPaQeDepFiicf_SYdj7cOvcTVib6DHFZEzbRAYbsRb89E-RDMUabQfImxf3bRqCknXh&amp;osid=1\" jsname=\"Cuz2Ue\">Forgot email?</a></p><input type=\"password\" name=\"hiddenPassword\" class=\"hJIRO\" tabindex=\"-1\" aria-hidden=\"true\" spellcheck=\"false\" jsname=\"RHeR4d\"><input type=\"hidden\" name=\"usi\" value=\"S872767345:1714405371121034\"><input type=\"hidden\" name=\"domain\" value=\"\"><input type=\"hidden\" name=\"region\" value=\"US\"><span jsname=\"xdJtEf\"><script nonce=\"A2s10RAWQt9cpZSZYbHDRw\">//# sourceMappingURL=data:application/json;charset=utf-8;base64,eyJ2ZXJzaW9uIjogMywic291cmNlcyI6WyIiXSwic291cmNlc0NvbnRlbnQiOlsiICJdLCJuYW1lcyI6WyJjbG9zdXJlRHluYW1pY0J1dHRvbiJdLCJtYXBwaW5ncyI6IkFBQUE7QUFBQTtBQUFBO0FBQUE7QUFBQTtBQUFBO0FBQUEifQ=='\r\n"
     ]
    }
   ],
   "source": [
    "!gdrive about"
   ]
  }
 ],
 "metadata": {
  "kaggle": {
   "accelerator": "none",
   "dataSources": [],
   "dockerImageVersionId": 30699,
   "isGpuEnabled": false,
   "isInternetEnabled": true,
   "language": "python",
   "sourceType": "notebook"
  },
  "kernelspec": {
   "display_name": "Python 3",
   "language": "python",
   "name": "python3"
  },
  "language_info": {
   "codemirror_mode": {
    "name": "ipython",
    "version": 3
   },
   "file_extension": ".py",
   "mimetype": "text/x-python",
   "name": "python",
   "nbconvert_exporter": "python",
   "pygments_lexer": "ipython3",
   "version": "3.10.13"
  },
  "papermill": {
   "default_parameters": {},
   "duration": 85.860768,
   "end_time": "2024-04-29T15:42:56.530039",
   "environment_variables": {},
   "exception": null,
   "input_path": "__notebook__.ipynb",
   "output_path": "__notebook__.ipynb",
   "parameters": {},
   "start_time": "2024-04-29T15:41:30.669271",
   "version": "2.5.0"
  }
 },
 "nbformat": 4,
 "nbformat_minor": 5
}
